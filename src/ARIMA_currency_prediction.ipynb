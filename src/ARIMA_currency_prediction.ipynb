{
 "cells": [
  {
   "cell_type": "code",
   "execution_count": 1,
   "metadata": {},
   "outputs": [],
   "source": [
    "import warnings\n",
    "\n",
    "from matplotlib import pyplot\n",
    "from pandas import read_csv\n",
    "from sklearn.metrics import mean_squared_error\n",
    "from statsmodels.tsa.arima_model import ARIMA\n",
    "\n",
    "training = 0.7\n",
    "testing = 1 - training\n",
    "past_datapoints = 3\n",
    "length_full_dataset = 0\n",
    "length_training_data = 0 "
   ]
  },
  {
   "cell_type": "code",
   "execution_count": 2,
   "metadata": {},
   "outputs": [],
   "source": [
    "def training_testing(raw_datapoints, training, testing):\n",
    "    global length_training_data, length_test_data\n",
    "    length_training_data = int((length_full_dataset) * training)\n",
    "    length_test_data = length_full_dataset - length_training_data\n",
    "    training_datapoints, testing_datapoints = raw_datapoints[0:length_training_data], raw_datapoints[length_training_data:length_full_dataset]\n",
    "    return training_datapoints, testing_datapoints"
   ]
  },
  {
   "cell_type": "code",
   "execution_count": 3,
   "metadata": {},
   "outputs": [],
   "source": [
    "def arima_evaluation(actualdata_testing, actualdata_prediction):\n",
    "    return mean_squared_error(actualdata_testing, actualdata_prediction)"
   ]
  },
  {
   "cell_type": "code",
   "execution_count": 4,
   "metadata": {},
   "outputs": [],
   "source": [
    "def arima_plot(currency, actualdata_testing, actualdata_prediction, file_name):\n",
    "    actual_datapoints = pyplot.plot(actualdata_testing, label=\"Actual values\", color=\"yellow\")\n",
    "    testing_datapoints = pyplot.plot(actualdata_prediction, label=\"Predicted values\", color=\"red\")\n",
    "\n",
    "    pyplot.ylabel('Currency values for 1 USD')\n",
    "    pyplot.xlabel('Number of days')\n",
    "    pyplot.title('USD/' + currency + ' : Actual vs Predicted values using ARIMA')\n",
    "\n",
    "    pyplot.legend()\n",
    "    pyplot.savefig(file_name)\n",
    "    pyplot.clf()"
   ]
  },
  {
   "cell_type": "code",
   "execution_count": 5,
   "metadata": {},
   "outputs": [],
   "source": [
    "def dataset_loading(currency):\n",
    "    data_frame = read_csv('currency_prediction_data_set.csv', header=0,\n",
    "                              index_col=0, squeeze=True)\n",
    "    column_headers = data_frame.columns.values.tolist()\n",
    "    currency_index = column_headers.index('USD/' + currency.upper()) + 1\n",
    "\n",
    "    data = read_csv(\"currency_prediction_data_set.csv\", usecols=[currency_index], engine='python')\n",
    "    raw_datapoints = []\n",
    "    for data_point in data.values.tolist():\n",
    "        raw_datapoints.append(data_point[0])\n",
    "    global length_full_dataset\n",
    "    length_full_dataset= len(raw_datapoints)\n",
    "    return raw_datapoints"
   ]
  },
  {
   "cell_type": "code",
   "execution_count": 6,
   "metadata": {},
   "outputs": [],
   "source": [
    "def arima_prediction(actualdata_training, actualdata_testing):\n",
    "    test_prediction = list()\n",
    "    training_prediction = list(actualdata_training)\n",
    "    for testing_set_index in range(length_test_data):\n",
    "        arima = ARIMA(training_prediction, order=(5, 1, 0))\n",
    "        model_arima = arima.fit(disp=0)\n",
    "        forecasting = model_arima.forecast()[0].tolist()[0]\n",
    "        test_prediction.append(forecasting)\n",
    "        training_prediction.append(actualdata_testing[testing_set_index])\n",
    "        \n",
    "    print('Predicting...')\n",
    "    print('\\t The prediction for the next day:', model_arima.forecast()[0])\n",
    "    return test_prediction"
   ]
  },
  {
   "cell_type": "code",
   "execution_count": 7,
   "metadata": {},
   "outputs": [],
   "source": [
    "def arima_model(currency):\n",
    "    print('\\nARIMA Model')\n",
    "\n",
    "    print('Dataset Loading...')\n",
    "    raw_datapoints = dataset_loading(currency)\n",
    "\n",
    "    print('Train-test split...')\n",
    "    actualdata_training, actualdata_testing = training_testing(raw_datapoints, training, testing)\n",
    "\n",
    "    print('Training the model...')\n",
    "    arima_test_prediction = arima_prediction(actualdata_training, actualdata_testing)\n",
    "\n",
    "    print('Performance Evaluation...')\n",
    "    arima_mse = arima_evaluation(actualdata_testing, arima_test_prediction)\n",
    "    print('\\t Saving Mean Square Error for Test Data:', arima_mse)\n",
    "\n",
    "    with open(\"arima_mse.txt\", 'w') as meansq_error:\n",
    "        meansq_error.write(str(arima_mse) + '\\n')\n",
    "\n",
    "    print('Graph Plotting...')\n",
    "    arima_plot(currency, actualdata_testing, arima_test_prediction, \"arima_test_predictions.pdf\")\n",
    "\n",
    "    print('Predictions available now...')\n",
    "    return raw_datapoints, arima_test_prediction"
   ]
  },
  {
   "cell_type": "code",
   "execution_count": 8,
   "metadata": {},
   "outputs": [
    {
     "name": "stdout",
     "output_type": "stream",
     "text": [
      "Which one of ['INR', 'PKR', 'CNY', 'KWD', 'AED', 'LKR', 'CHF', 'EUR', 'ALL', 'DZD', 'AOA', 'XCD', 'ARS', 'AWG', 'SHP', 'AUD', 'BSD', 'BHD', 'BDT', 'BZD', 'XOF', 'BTN', 'BOB', 'BWP', 'BRL', 'BND', 'BGN', 'BIF', 'CVE'] currencies, do you want to predict for?\n",
      "EUR\n",
      "\n",
      "ARIMA Model\n",
      "Dataset Loading...\n",
      "Train-test split...\n",
      "Training the model...\n",
      "Predicting...\n",
      "\t The prediction for the next day: [0.93868167]\n",
      "Performance Evaluation...\n",
      "\t Saving Mean Square Error for Test Data: 1.2490802611927058e-05\n",
      "Graph Plotting...\n",
      "Predictions available now...\n"
     ]
    },
    {
     "data": {
      "text/plain": [
       "<Figure size 432x288 with 0 Axes>"
      ]
     },
     "metadata": {},
     "output_type": "display_data"
    }
   ],
   "source": [
    "if __name__ == '__main__':\n",
    "    warnings.filterwarnings(\"ignore\")\n",
    "    data_frame = read_csv('currency_prediction_data_set.csv', header=0,\n",
    "                              index_col=0, squeeze=True)\n",
    "    column_headers = str([cur[4:] for cur in data_frame.columns.values.tolist()])\n",
    "    currency = input('Which one of ' + column_headers + ' currencies, do you want to predict for?\\n').strip()\n",
    "    arima_model(currency)"
   ]
  }
 ],
 "metadata": {
  "kernelspec": {
   "display_name": "Python 3",
   "language": "python",
   "name": "python3"
  },
  "language_info": {
   "codemirror_mode": {
    "name": "ipython",
    "version": 3
   },
   "file_extension": ".py",
   "mimetype": "text/x-python",
   "name": "python",
   "nbconvert_exporter": "python",
   "pygments_lexer": "ipython3",
   "version": "3.8.3"
  }
 },
 "nbformat": 4,
 "nbformat_minor": 4
}
