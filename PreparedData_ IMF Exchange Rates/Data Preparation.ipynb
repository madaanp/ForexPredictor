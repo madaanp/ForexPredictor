{
 "cells": [
  {
   "cell_type": "code",
   "execution_count": null,
   "metadata": {},
   "outputs": [],
   "source": [
    "import numpy as np\n",
    "import pandas as pd\n",
    "import os as os\n",
    "import os\n",
    "from glob import glob\n",
    "import gc"
   ]
  },
  {
   "cell_type": "code",
   "execution_count": null,
   "metadata": {},
   "outputs": [],
   "source": [
    "def traverse_currency_dataset(files):\n",
    "    dfConcat= pd.DataFrame()\n",
    "    for file1 in files:\n",
    "        print(file1)\n",
    "        df1=pd.DataFrame()\n",
    "        df1 = pd.read_csv(file1, sep='\\t', header=1)\n",
    "        df1Top = df1[df1.duplicated(subset='Currency', keep='last')]\n",
    "        df1Top= df1Top.T\n",
    "        dfRow = df1[df1['Currency'].str.contains(\"Currency\")].reset_index(drop=True)\n",
    "        df1Bottom = df1[df1.duplicated(subset='Currency', keep='first')].reset_index(drop=True)\n",
    "        df1Bottom= dfRow.append(df1Bottom)\n",
    "        new_header = df1Bottom.iloc[0] \n",
    "        df1Bottom = df1Bottom[1:] \n",
    "        df1Bottom.columns = new_header\n",
    "        df1Bottom = df1Bottom.T\n",
    "        df1Bottom=df1Bottom.drop('Currency', axis=0)\n",
    "        df1Concat = pd.concat([df1Top,df1Bottom])\n",
    "        df = df1Concat.dropna(axis = 0, how ='all')\n",
    "        df = df.dropna().reset_index(drop=True)\n",
    "        dfConcat = pd.concat([dfConcat,df])\n",
    "        del [[df1,df1Top, df1Bottom, dfRow, df, df1Concat]]\n",
    "        gc.collect()\n",
    "    dfConcat.to_csv(\"FullDataset.csv\")"
   ]
  },
  {
   "cell_type": "code",
   "execution_count": null,
   "metadata": {},
   "outputs": [],
   "source": [
    "def read_dataset(path, extension):\n",
    "    all_files = [file\n",
    "                     for path, subdir, files in os.walk(path)\n",
    "                     for file in glob(os.path.join(path, extension))]\n",
    "    return all_files"
   ]
  },
  {
   "cell_type": "code",
   "execution_count": null,
   "metadata": {},
   "outputs": [],
   "source": [
    "def prepare_dataset():\n",
    "    path = os.getcwd()+\"/RawData_ IMF Exchange Rates\"\n",
    "    extension = \"*.xls\"\n",
    "    input_files = read_dataset(path, extension)\n",
    "    return input_files"
   ]
  },
  {
   "cell_type": "code",
   "execution_count": null,
   "metadata": {},
   "outputs": [],
   "source": [
    "input= prepare_dataset()"
   ]
  },
  {
   "cell_type": "code",
   "execution_count": null,
   "metadata": {},
   "outputs": [],
   "source": [
    "traverse_currency_dataset(input)"
   ]
  }
 ],
 "metadata": {
  "kernelspec": {
   "display_name": "Python 3",
   "language": "python",
   "name": "python3"
  },
  "language_info": {
   "codemirror_mode": {
    "name": "ipython",
    "version": 3
   },
   "file_extension": ".py",
   "mimetype": "text/x-python",
   "name": "python",
   "nbconvert_exporter": "python",
   "pygments_lexer": "ipython3",
   "version": "3.8.3"
  }
 },
 "nbformat": 4,
 "nbformat_minor": 4
}
